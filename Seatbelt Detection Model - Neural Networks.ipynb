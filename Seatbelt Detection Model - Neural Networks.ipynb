{
 "cells": [
  {
   "cell_type": "code",
   "execution_count": 14,
   "id": "0453f675-2c70-48b3-9161-00a201d916b9",
   "metadata": {},
   "outputs": [],
   "source": [
    "import numpy as np\n",
    "# for vectorized math,arrays ftns etc\n",
    "import copy\n",
    "\n",
    "import matplotlib.pyplot as plt\n",
    "# for displaying graphs/plots\n",
    "\n",
    "from PIL import Image\n",
    "# to load and resize .jpg images\n",
    "\n",
    "import os\n",
    "# for handling file paths\n",
    "\n",
    "from planar_utils import plot_decision_boundary, sigmoid\n",
    "\n",
    "%matplotlib inline\n",
    "# Ensures that plots (from plt) show inside Jupyter Notebook cells\n"
   ]
  },
  {
   "cell_type": "code",
   "execution_count": 3,
   "id": "9012c9d6-cf94-4833-a732-7f298dbdf191",
   "metadata": {},
   "outputs": [],
   "source": [
    "import os\n",
    "import numpy as np\n",
    "from PIL import Image\n",
    "\n",
    "def load_images_from_folder(folder_path, label, image_size):\n",
    "    X = []\n",
    "    Y = []\n",
    "\n",
    "    if not os.path.exists(folder_path):\n",
    "        print(f\"❌ Folder does not exist: {folder_path}\")\n",
    "        return [], []\n",
    "\n",
    "    for filename in os.listdir(folder_path):\n",
    "        if filename.endswith(('.jpg', '.jpeg', '.png')):\n",
    "            img_path = os.path.join(folder_path, filename)\n",
    "            try:\n",
    "                img = Image.open(img_path).convert('RGB')\n",
    "                img = img.resize(image_size)\n",
    "                X.append(np.array(img))\n",
    "                Y.append(label)\n",
    "            except Exception as e:\n",
    "                print(f\"❌ Error loading {img_path}: {e}\")\n",
    "    \n",
    "    return X, Y\n",
    "\n",
    "def load_dataset_seatbelt(base_dir=\"seatbelt_classification\", image_size=(64, 64)):\n",
    "    label_names = [\"with_seatbelt\", \"without_seatbelt\"]\n",
    "    label_map = {name: i for i, name in enumerate(label_names)}\n",
    "\n",
    "    X_train, Y_train = [], []\n",
    "    X_test, Y_test = [], []\n",
    "\n",
    "    for label_name in label_names:\n",
    "        label = label_map[label_name]\n",
    "        train_folder = os.path.join(base_dir, \"train\", label_name)\n",
    "        test_folder = os.path.join(base_dir, \"test\", label_name)\n",
    "\n",
    "        X_tr, Y_tr = load_images_from_folder(train_folder, label, image_size)\n",
    "        X_te, Y_te = load_images_from_folder(test_folder, label, image_size)\n",
    "\n",
    "        X_train.extend(X_tr)\n",
    "        Y_train.extend(Y_tr)\n",
    "        X_test.extend(X_te)\n",
    "        Y_test.extend(Y_te)\n",
    "\n",
    "    # Convert to numpy arrays\n",
    "    X_train = np.array(X_train)\n",
    "    Y_train = np.array(Y_train).reshape(1, -1)\n",
    "    X_test = np.array(X_test)\n",
    "    Y_test = np.array(Y_test).reshape(1, -1)\n",
    "\n",
    "    classes = np.array(label_names)\n",
    "\n",
    "    return X_train, Y_train, X_test, Y_test, classes\n"
   ]
  },
  {
   "cell_type": "code",
   "execution_count": 4,
   "id": "c3cf9710-8fc2-45eb-9cf9-000a24f1a89d",
   "metadata": {},
   "outputs": [],
   "source": [
    "train_set_x_orig, train_set_y, test_set_x_orig, test_set_y, classes = load_dataset_seatbelt()"
   ]
  },
  {
   "cell_type": "code",
   "execution_count": 5,
   "id": "2237b361-c2a5-4e64-8366-e39e2d9c1ff0",
   "metadata": {},
   "outputs": [
    {
     "name": "stdout",
     "output_type": "stream",
     "text": [
      "Training set shape: (1878, 64, 64, 3) (1, 1878)\n",
      "Test set shape: (602, 64, 64, 3) (1, 602)\n",
      "Classes: ['with_seatbelt' 'without_seatbelt']\n"
     ]
    }
   ],
   "source": [
    "print(\"Training set shape:\", train_set_x_orig.shape, train_set_y.shape)\n",
    "print(\"Test set shape:\", test_set_x_orig.shape, test_set_y.shape)\n",
    "print(\"Classes:\", classes)"
   ]
  },
  {
   "cell_type": "code",
   "execution_count": 6,
   "id": "1d49a5af-3688-4a4c-849b-93500cff2200",
   "metadata": {},
   "outputs": [
    {
     "name": "stdout",
     "output_type": "stream",
     "text": [
      "train_set_x shape: (12288, 1878)\n",
      "test_set_x shape: (12288, 602)\n"
     ]
    }
   ],
   "source": [
    "# Flatten\n",
    "train_set_x_flatten = train_set_x_orig.reshape(train_set_x_orig.shape[0], -1).T\n",
    "test_set_x_flatten = test_set_x_orig.reshape(test_set_x_orig.shape[0], -1).T\n",
    "\n",
    "# Standardize (scale pixel values between 0 and 1)\n",
    "train_set_x = train_set_x_flatten / 255.\n",
    "test_set_x = test_set_x_flatten / 255.\n",
    "\n",
    "print(\"train_set_x shape:\", train_set_x.shape)\n",
    "print(\"test_set_x shape:\", test_set_x.shape)\n"
   ]
  },
  {
   "cell_type": "code",
   "execution_count": 7,
   "id": "0ab19af6-4556-4ecb-9641-ef68bb04e3fb",
   "metadata": {},
   "outputs": [],
   "source": [
    "\n",
    "def layer_sizes(X, Y):\n",
    "    \"\"\"\n",
    "    Arguments:\n",
    "    X -- input dataset of shape (input size, number of examples)\n",
    "    Y -- labels of shape (output size, number of examples)\n",
    "    \n",
    "    Returns:\n",
    "    n_x -- the size of the input layer\n",
    "    n_h -- the size of the hidden layer (i have fixed it to 4 currently)\n",
    "    n_y -- the size of the output layer\n",
    "    \"\"\"\n",
    " \n",
    "    n_x = X.shape[0]   # number of input features\n",
    "    n_h = 4            # hidden layer size (4 neurons)\n",
    "    n_y = Y.shape[0]   # number of output units (1 for binary classification)\n",
    "\n",
    "    return (n_x, n_h, n_y)\n"
   ]
  },
  {
   "cell_type": "code",
   "execution_count": 8,
   "id": "7bfe3e36-3544-4296-8d1f-f3a8f6de297e",
   "metadata": {},
   "outputs": [
    {
     "name": "stdout",
     "output_type": "stream",
     "text": [
      "Input layer size: 12288\n",
      "Hidden layer size: 4\n",
      "Output layer size: 1\n"
     ]
    }
   ],
   "source": [
    "n_x, n_h, n_y = layer_sizes(train_set_x, train_set_y)\n",
    "print(\"Input layer size:\", n_x)\n",
    "print(\"Hidden layer size:\", n_h)\n",
    "print(\"Output layer size:\", n_y)\n"
   ]
  },
  {
   "cell_type": "code",
   "execution_count": 9,
   "id": "54f19be0-222d-4f0e-8118-d5684fa79613",
   "metadata": {},
   "outputs": [],
   "source": [
    "def initialize_parameters(n_x, n_h, n_y):\n",
    "    \"\"\"\n",
    "    Initialize parameters for a 2-layer neural network\n",
    "\n",
    "    Arguments:\n",
    "    n_x -- size of the input layer\n",
    "    n_h -- size of the hidden layer\n",
    "    n_y -- size of the output layer\n",
    "\n",
    "    Returns:\n",
    "    parameters -- python dictionary containing:\n",
    "                    W1 -- weight matrix of shape (n_h, n_x)\n",
    "                    b1 -- bias vector of shape (n_h, 1)\n",
    "                    W2 -- weight matrix of shape (n_y, n_h)\n",
    "                    b2 -- bias vector of shape (n_y, 1)\n",
    "    \"\"\"\n",
    "    # small random values for weights, zeros for biases\n",
    "    W1 = np.random.randn(n_h, n_x) * 0.01\n",
    "    b1 = np.zeros((n_h, 1))\n",
    "    W2 = np.random.randn(n_y, n_h) * 0.01\n",
    "    b2 = np.zeros((n_y, 1))\n",
    "\n",
    "    parameters = {\n",
    "        \"W1\": W1,\n",
    "        \"b1\": b1,\n",
    "        \"W2\": W2,\n",
    "        \"b2\": b2\n",
    "    }\n",
    "    \n",
    "    return parameters\n"
   ]
  },
  {
   "cell_type": "code",
   "execution_count": 10,
   "id": "26858e6b-a275-4da0-9463-6654c6cb1afb",
   "metadata": {},
   "outputs": [
    {
     "name": "stdout",
     "output_type": "stream",
     "text": [
      "W1 = [[ 0.00143591 -0.00557524 -0.01590544 ... -0.00626677 -0.01086709\n",
      "   0.0057898 ]\n",
      " [ 0.00737155  0.00685932  0.00618071 ... -0.00549376 -0.00943378\n",
      "  -0.00798482]\n",
      " [-0.01753934 -0.01015909 -0.00144452 ...  0.00048303 -0.01026746\n",
      "  -0.00217379]\n",
      " [ 0.00447677 -0.00368786 -0.00588464 ...  0.01755074 -0.00593458\n",
      "   0.00342236]]\n",
      "b1 = [[0.]\n",
      " [0.]\n",
      " [0.]\n",
      " [0.]]\n",
      "W2 = [[-0.00619625  0.01174559 -0.00941538 -0.01453826]]\n",
      "b2 = [[0.]]\n"
     ]
    }
   ],
   "source": [
    "parameters = initialize_parameters(n_x, n_h, n_y)\n",
    "\n",
    "print(\"W1 = \" + str(parameters[\"W1\"]))\n",
    "print(\"b1 = \" + str(parameters[\"b1\"]))\n",
    "print(\"W2 = \" + str(parameters[\"W2\"]))\n",
    "print(\"b2 = \" + str(parameters[\"b2\"]))\n"
   ]
  },
  {
   "cell_type": "code",
   "execution_count": 11,
   "id": "af24b336-3be5-4439-990e-98d740b50416",
   "metadata": {},
   "outputs": [],
   "source": [
    "\n",
    "\n",
    "def forward_propagation(X, parameters):\n",
    "    \"\"\"\n",
    "    Argument:\n",
    "    X -- input data of size (n_x, m)\n",
    "    parameters -- python dictionary containing your parameters (output of initialization function)\n",
    "    \n",
    "    Returns:\n",
    "    A2 -- The sigmoid output of the second activation\n",
    "    cache -- a dictionary containing \"Z1\", \"A1\", \"Z2\" and \"A2\"\n",
    "    \"\"\"\n",
    "    # Retrieve each parameter from the dictionary \"parameters\"\n",
    "\n",
    "    W1 = parameters[\"W1\"]\n",
    "    b1 = parameters[\"b1\"]\n",
    "    W2 = parameters[\"W2\"]\n",
    "    b2 = parameters[\"b2\"]\n",
    "    \n",
    "\n",
    "\n",
    "    Z1 = np.dot(W1,X) + b1\n",
    "    A1 = np.tanh(Z1)\n",
    "    Z2 = np.dot(W2,A1) + b2\n",
    "    A2 = sigmoid(Z2)\n",
    "    \n",
    "\n",
    "    \n",
    "    assert(A2.shape == (1, X.shape[1]))\n",
    "    \n",
    "    cache = {\"Z1\": Z1,\n",
    "             \"A1\": A1,\n",
    "             \"Z2\": Z2,\n",
    "             \"A2\": A2}\n",
    "    \n",
    "    return A2, cache"
   ]
  },
  {
   "cell_type": "code",
   "execution_count": 15,
   "id": "8f102ff3-eb5e-4354-bf52-2739f83b6395",
   "metadata": {},
   "outputs": [
    {
     "name": "stdout",
     "output_type": "stream",
     "text": [
      "A2 shape: (1, 1878)\n",
      "A2 first few values: [[0.50695947 0.5035201  0.50511946 0.50151725 0.50154694]]\n"
     ]
    }
   ],
   "source": [
    "# Trying forward pass to check if it works correctly and produces the right shapes/initial values\n",
    "A2, cache = forward_propagation(train_set_x, parameters)\n",
    "\n",
    "print(\"A2 shape:\", A2.shape)\n",
    "print(\"A2 first few values:\", A2[:, :5])  # show first 5 predictions\n"
   ]
  },
  {
   "cell_type": "code",
   "execution_count": 16,
   "id": "dcb29afb-a8b9-48ee-9473-0a4815b2a7a4",
   "metadata": {},
   "outputs": [],
   "source": [
    "\n",
    "\n",
    "def compute_cost(A2, Y):\n",
    "    \"\"\"\n",
    "    Computes the cross-entropy cost given in equation (13)\n",
    "    \n",
    "    Arguments:\n",
    "    A2 -- The sigmoid output of the second activation, of shape (1, number of examples)\n",
    "    Y -- \"true\" labels vector of shape (1, number of examples)\n",
    "\n",
    "    Returns:\n",
    "    cost -- cross-entropy cost given equation (13)\n",
    "    \n",
    "    \"\"\"\n",
    "    \n",
    "    m = Y.shape[1] # number of examples\n",
    "\n",
    "    # Compute the cross-entropy cost\n",
    "    \n",
    "    logprobs = np.multiply(np.log(A2), Y) + np.multiply((1-Y), np.log(1-A2))\n",
    "    cost = -(1/m) * np.sum(logprobs)\n",
    "    \n",
    "    \n",
    "   \n",
    "    \n",
    "    cost = float(np.squeeze(cost))  # makes sure cost is the dimension we expect. \n",
    "                                    # E.g., turns [[17]] into 17 \n",
    "    \n",
    "    return cost"
   ]
  },
  {
   "cell_type": "code",
   "execution_count": 20,
   "id": "7e29c939-a32e-44b4-9eb5-48170bbbf970",
   "metadata": {},
   "outputs": [
    {
     "name": "stdout",
     "output_type": "stream",
     "text": [
      "Initial A2 shape: (1, 1878)\n",
      "First few A2 values: [0.49768713 0.49892239 0.49822769 0.4960375  0.50174487]\n",
      "Initial cost: 0.6935914342779417\n"
     ]
    }
   ],
   "source": [
    "# ===== Test the forward propagation and cost =====\n",
    "\n",
    "# Get layer sizes from dataset\n",
    "n_x, n_h, n_y = layer_sizes(train_set_x, train_set_y)\n",
    "\n",
    "# Initialize parameters\n",
    "parameters = initialize_parameters(n_x, n_h, n_y)\n",
    "\n",
    "# Forward propagation on training set\n",
    "A2, cache = forward_propagation(train_set_x, parameters)\n",
    "\n",
    "# Compute cost with actual labels\n",
    "cost = compute_cost(A2, train_set_y)\n",
    "\n",
    "print(\"Initial A2 shape:\", A2.shape)\n",
    "print(\"First few A2 values:\", A2[0, :5])\n",
    "print(\"Initial cost:\", cost)\n"
   ]
  },
  {
   "cell_type": "code",
   "execution_count": 21,
   "id": "82170e70-fb6a-48b2-9790-9dfe92a7bcc1",
   "metadata": {},
   "outputs": [],
   "source": [
    "\n",
    "\n",
    "def backward_propagation(parameters, cache, X, Y):\n",
    "    \"\"\"\n",
    "    Implement the backward propagation using the instructions above.\n",
    "    \n",
    "    Arguments:\n",
    "    parameters -- python dictionary containing our parameters \n",
    "    cache -- a dictionary containing \"Z1\", \"A1\", \"Z2\" and \"A2\".\n",
    "    X -- input data of shape (2, number of examples)\n",
    "    Y -- \"true\" labels vector of shape (1, number of examples)\n",
    "    \n",
    "    Returns:\n",
    "    grads -- python dictionary containing your gradients with respect to different parameters\n",
    "    \"\"\"\n",
    "    m = X.shape[1]\n",
    "    \n",
    "    # First, retrieve W1 and W2 from the dictionary \"parameters\".\n",
    "\n",
    "    W1 = parameters[\"W1\"]\n",
    "    W2 = parameters[\"W2\"]\n",
    "\n",
    "        \n",
    "    # Retrieve also A1 and A2 from dictionary \"cache\".\n",
    "\n",
    "    A1 = cache[\"A1\"]\n",
    "    A2 = cache[\"A2\"]\n",
    "    \n",
    "\n",
    "    # Backward propagation: calculate dW1, db1, dW2, db2. \n",
    "\n",
    "    dZ2 = A2 - Y\n",
    "    dW2 = (1/m) * np.dot(dZ2, A1.T)\n",
    "    db2 = (1/m) * np.sum(dZ2, axis = 1, keepdims = True)\n",
    "    dZ1 = np.dot((W2.T),dZ2) * (1 - np.power(A1, 2))\n",
    "    dW1 = (1/m) * np.dot(dZ1, X.T)\n",
    "    db1 = (1/m) * np.sum(dZ1, axis = 1, keepdims = True)\n",
    "\n",
    "    grads = {\"dW1\": dW1,\n",
    "             \"db1\": db1,\n",
    "             \"dW2\": dW2,\n",
    "             \"db2\": db2}\n",
    "    \n",
    "    return grads"
   ]
  },
  {
   "cell_type": "code",
   "execution_count": 24,
   "id": "5d209a4b-caa0-4e98-9dce-c5e4a5a33412",
   "metadata": {},
   "outputs": [
    {
     "name": "stdout",
     "output_type": "stream",
     "text": [
      "dW1 = [[-1.00685696e-05 -1.08322788e-05 -9.71533315e-06 ...  9.87825561e-05\n",
      "   1.04102616e-04  1.38826637e-04]\n",
      " [-8.64141349e-05 -8.84864352e-05 -8.45166704e-05 ...  1.10007301e-04\n",
      "   1.15289785e-04  1.63695007e-04]\n",
      " [-1.09019553e-05 -1.00035476e-05 -1.64023372e-05 ... -4.62692274e-04\n",
      "  -4.86330896e-04 -6.34351062e-04]\n",
      " [-2.50522448e-06 -3.12146103e-06 -2.28488126e-06 ...  5.65173875e-05\n",
      "   5.99714921e-05  8.03544523e-05]]\n",
      "db1 = [[ 8.81624355e-05]\n",
      " [-1.22173713e-05]\n",
      " [-5.00329948e-04]\n",
      " [ 5.17821218e-05]]\n",
      "dW2 = [[0.01770369 0.0364876  0.00203446 0.0290796 ]]\n",
      "db2 = [[0.02396596]]\n"
     ]
    }
   ],
   "source": [
    "grads = backward_propagation(parameters, cache, train_set_x, train_set_y)\n",
    "print(\"dW1 = \" + str(grads[\"dW1\"]))\n",
    "print(\"db1 = \" + str(grads[\"db1\"]))\n",
    "print(\"dW2 = \" + str(grads[\"dW2\"]))\n",
    "print(\"db2 = \" + str(grads[\"db2\"]))\n"
   ]
  },
  {
   "cell_type": "code",
   "execution_count": 25,
   "id": "72e729fd-6fbd-467e-9ce2-60869a60eee0",
   "metadata": {},
   "outputs": [],
   "source": [
    "\n",
    "def update_parameters(parameters, grads, learning_rate = 1.2):\n",
    "    \"\"\"\n",
    "    Updates parameters using the gradient descent update rule given above\n",
    "    \n",
    "    Arguments:\n",
    "    parameters -- python dictionary containing your parameters \n",
    "    grads -- python dictionary containing your gradients \n",
    "    \n",
    "    Returns:\n",
    "    parameters -- python dictionary containing your updated parameters \n",
    "    \"\"\"\n",
    "    # Retrieve a copy of each parameter from the dictionary \"parameters\".\n",
    "\n",
    "\n",
    "    W1 = copy.deepcopy(parameters[\"W1\"])\n",
    "    b1 = parameters[\"b1\"]\n",
    "    W2 = copy.deepcopy(parameters[\"W2\"])\n",
    "    b2 = parameters[\"b2\"]\n",
    "    \n",
    "\n",
    "    \n",
    "    # Retrieve each gradient from the dictionary \"grads\"\n",
    "\n",
    "    dW1 = grads[\"dW1\"]\n",
    "    db1 = grads[\"db1\"]\n",
    "    dW2 = grads[\"dW2\"]\n",
    "    db2 = grads[\"db2\"]\n",
    "    \n",
    "\n",
    "    \n",
    "    # Update rule for each parameter\n",
    "\n",
    "    W1 = W1 - np.multiply(learning_rate, dW1)\n",
    "    b1 = b1 - np.multiply(learning_rate, db1)\n",
    "    W2 = W2 - np.multiply(learning_rate, dW2)\n",
    "    b2 = b2 - np.multiply(learning_rate, db2)\n",
    "    \n",
    "\n",
    "    \n",
    "    parameters = {\"W1\": W1,\n",
    "                  \"b1\": b1,\n",
    "                  \"W2\": W2,\n",
    "                  \"b2\": b2}\n",
    "    \n",
    "    return parameters"
   ]
  },
  {
   "cell_type": "code",
   "execution_count": 26,
   "id": "3d3788f9-6386-41be-a26c-c64fb62557e7",
   "metadata": {},
   "outputs": [
    {
     "name": "stdout",
     "output_type": "stream",
     "text": [
      "W1 = [[ 1.23534279e-03  1.03030850e-03 -3.17408936e-03 ...  5.40704474e-03\n",
      "  -4.39645419e-03 -6.16391209e-04]\n",
      " [ 2.33173283e-03 -7.34996080e-03 -9.43948134e-03 ... -1.16726591e-02\n",
      "  -6.03098774e-03  4.19498774e-03]\n",
      " [-7.21822274e-04 -1.40128473e-05 -2.37942162e-03 ...  3.00605278e-03\n",
      "   4.52246686e-03  1.55744183e-02]\n",
      " [ 4.03645747e-03  3.75609050e-03  2.70115651e-03 ...  1.42628296e-02\n",
      "  -2.39676823e-04 -1.13356004e-02]]\n",
      "b1 = [[-1.05794923e-04]\n",
      " [ 1.46608455e-05]\n",
      " [ 6.00395937e-04]\n",
      " [-6.21385462e-05]]\n",
      "W2 = [[-0.01549968 -0.03547877 -0.02831066 -0.03153318]]\n",
      "b2 = [[-0.02875915]]\n"
     ]
    }
   ],
   "source": [
    "parameters = update_parameters(parameters, grads)\n",
    "\n",
    "print(\"W1 = \" + str(parameters[\"W1\"]))\n",
    "print(\"b1 = \" + str(parameters[\"b1\"]))\n",
    "print(\"W2 = \" + str(parameters[\"W2\"]))\n",
    "print(\"b2 = \" + str(parameters[\"b2\"]))"
   ]
  },
  {
   "cell_type": "code",
   "execution_count": 27,
   "id": "7792919c-8393-4db2-bd17-8c34a21a7541",
   "metadata": {},
   "outputs": [],
   "source": [
    "\n",
    "def nn_model(X, Y, n_h, num_iterations = 10000, print_cost=False):\n",
    "    \"\"\"\n",
    "    Arguments:\n",
    "    X -- dataset of shape (2, number of examples)\n",
    "    Y -- labels of shape (1, number of examples)\n",
    "    n_h -- size of the hidden layer\n",
    "    num_iterations -- Number of iterations in gradient descent loop\n",
    "    print_cost -- if True, print the cost every 1000 iterations\n",
    "    \n",
    "    Returns:\n",
    "    parameters -- parameters learnt by the model. They can then be used to predict.\n",
    "    \"\"\"\n",
    "    \n",
    "    np.random.seed(3)\n",
    "    n_x = layer_sizes(X, Y)[0]\n",
    "    n_y = layer_sizes(X, Y)[2]\n",
    "    \n",
    "    # Initialize parameters\n",
    "\n",
    "    parameters = initialize_parameters(n_x, n_h, n_y)\n",
    "\n",
    "    # Loop (gradient descent)\n",
    "\n",
    "    for i in range(0, num_iterations):\n",
    "         \n",
    "\n",
    "        # Forward propagation. Inputs: \"X, parameters\". Outputs: \"A2, cache\".\n",
    "\n",
    "        \n",
    "        # Cost function. Inputs: \"A2, Y\". Outputs: \"cost\".\n",
    "\n",
    " \n",
    "        # Backpropagation. Inputs: \"parameters, cache, X, Y\". Outputs: \"grads\".\n",
    "\n",
    " \n",
    "        # Gradient descent parameter update. Inputs: \"parameters, grads\". Outputs: \"parameters\".\n",
    "\n",
    "        \n",
    "\n",
    "        A2, cache = forward_propagation(X, parameters)\n",
    "        cost = compute_cost(A2, Y)\n",
    "        grads = backward_propagation(parameters, cache, X, Y)\n",
    "        parameters = update_parameters(parameters, grads)\n",
    "        \n",
    "        \n",
    "\n",
    "        \n",
    "        # Print the cost every 1000 iterations\n",
    "        if print_cost and i % 1000 == 0:\n",
    "            print (\"Cost after iteration %i: %f\" %(i, cost))\n",
    "\n",
    "    return parameters"
   ]
  },
  {
   "cell_type": "code",
   "execution_count": 30,
   "id": "307d13d8-025f-489e-997d-1fbb0fe6e530",
   "metadata": {},
   "outputs": [
    {
     "name": "stdout",
     "output_type": "stream",
     "text": [
      "Cost after iteration 0: 0.692750\n",
      "Cost after iteration 1000: 0.412312\n",
      "Cost after iteration 2000: 0.383813\n",
      "Cost after iteration 3000: 0.367983\n",
      "Cost after iteration 4000: 0.384264\n",
      "Cost after iteration 5000: 0.384694\n",
      "Cost after iteration 6000: 0.276411\n",
      "Cost after iteration 7000: 0.384910\n",
      "Cost after iteration 8000: 0.384605\n",
      "Cost after iteration 9000: 0.383858\n"
     ]
    }
   ],
   "source": [
    "# Train the model\n",
    "parameters = nn_model(train_set_x, train_set_y, n_h=4, num_iterations=10000, print_cost=True)\n"
   ]
  },
  {
   "cell_type": "code",
   "execution_count": 28,
   "id": "a5bcf583-9335-482d-89f1-cb3aa178269f",
   "metadata": {},
   "outputs": [],
   "source": [
    "\n",
    "def predict(parameters, X):\n",
    "    \"\"\"\n",
    "    Using the learned parameters, predicts a class for each example in X\n",
    "    \n",
    "    Arguments:\n",
    "    parameters -- python dictionary containing your parameters \n",
    "    X -- input data of size (n_x, m)\n",
    "    \n",
    "    Returns\n",
    "    predictions -- vector of predictions of our model (red: 0 / blue: 1)\n",
    "    \"\"\"\n",
    "    \n",
    "    # Computes probabilities using forward propagation, and classifies to 0/1 using 0.5 as the threshold.\n",
    "\n",
    "    A2, cache = forward_propagation(X, parameters)\n",
    "    predictions = (A2 > 0.5).astype(int)\n",
    "\n",
    "\n",
    "    \n",
    "    return predictions"
   ]
  },
  {
   "cell_type": "code",
   "execution_count": 31,
   "id": "23f3883a-eed8-4580-a60c-a456abb250cf",
   "metadata": {},
   "outputs": [
    {
     "name": "stdout",
     "output_type": "stream",
     "text": [
      "Train predictions: [[0 0 0 ... 1 1 1]]\n",
      "Train accuracy: 83.65282215122471 %\n",
      "Test predictions: [[0 0 0 0 0 0 1 0 0 0 0 0 0 0 1 0 0 0 0 0 0 0 0 0 0 0 0 0 0 0 0 0 0 0 0 0\n",
      "  0 0 0 0 0 0 0 0 0 0 0 0 0 0 0 0 0 0 0 0 0 0 1 0 0 0 0 1 0 0 0 0 0 0 0 0\n",
      "  0 0 1 0 0 0 0 0 0 0 0 0 0 0 0 0 0 0 0 0 0 0 0 1 0 0 0 0 0 0 0 0 0 0 0 0\n",
      "  0 0 0 0 0 0 0 0 0 0 0 0 0 0 0 0 0 0 0 0 0 0 0 1 0 0 0 0 0 0 0 1 0 0 0 0\n",
      "  0 0 0 0 0 0 0 0 0 0 0 0 0 0 1 0 0 0 0 0 0 0 0 0 0 0 1 0 0 0 0 0 0 0 0 0\n",
      "  0 0 0 0 0 0 0 0 0 0 0 0 0 0 0 0 0 0 0 1 0 0 0 0 1 0 0 0 0 0 0 0 0 0 0 0\n",
      "  0 0 0 0 0 0 0 1 0 0 0 0 0 0 0 0 0 0 0 0 0 0 0 0 0 0 0 0 0 0 1 0 0 0 0 0\n",
      "  0 0 0 0 0 0 0 0 0 0 0 1 0 0 0 0 0 0 0 0 0 0 0 0 0 0 0 0 0 0 0 0 0 0 0 0\n",
      "  0 1 0 0 0 0 0 0 0 0 0 0 0 0 0 0 0 0 0 0 0 0 0 0 0 0 0 0 0 1 0 0 0 1 1 1\n",
      "  1 1 1 1 1 0 1 1 0 1 1 1 1 1 1 1 1 1 1 1 1 1 1 1 1 1 1 1 1 1 1 1 1 1 1 1\n",
      "  1 1 1 1 1 1 1 1 1 1 0 0 1 0 0 0 0 1 1 1 1 1 1 1 1 1 1 1 1 0 1 1 1 1 1 1\n",
      "  1 1 1 1 1 1 1 1 0 1 1 1 1 1 1 1 1 1 1 1 1 1 0 0 0 0 0 0 0 0 0 1 1 0 0 0\n",
      "  0 0 0 0 0 0 0 0 1 1 0 0 1 0 0 0 0 0 1 1 0 0 0 0 0 0 0 0 0 0 1 0 0 0 1 0\n",
      "  0 0 0 1 1 0 0 0 1 0 0 0 0 0 0 1 0 0 0 0 0 1 1 0 0 0 0 0 1 1 1 0 0 0 0 0\n",
      "  0 0 0 0 0 0 0 0 0 0 1 0 0 0 0 0 1 1 1 1 1 1 1 1 1 1 1 1 1 1 1 1 1 1 1 1\n",
      "  1 1 1 1 1 1 1 1 1 1 1 1 1 1 1 1 1 1 1 1 1 1 1 1 1 1 1 1 1 1 1 1 1 1 1 1\n",
      "  1 1 1 1 1 1 1 1 1 1 1 1 1 1 1 1 1 1 1 1 1 1 1 1 1 1]]\n",
      "Test accuracy: 81.22923588039868 %\n"
     ]
    }
   ],
   "source": [
    "# Predict on training set\n",
    "predictions_train = predict(parameters, train_set_x)\n",
    "print(\"Train predictions: \" + str(predictions_train))\n",
    "print(\"Train accuracy: {} %\".format(100 - np.mean(np.abs(predictions_train - train_set_y)) * 100))\n",
    "\n",
    "# Predict on test set\n",
    "predictions_test = predict(parameters, test_set_x)\n",
    "print(\"Test predictions: \" + str(predictions_test))\n",
    "print(\"Test accuracy: {} %\".format(100 - np.mean(np.abs(predictions_test - test_set_y)) * 100))\n"
   ]
  },
  {
   "cell_type": "code",
   "execution_count": 34,
   "id": "d5e5e363-c690-4deb-b3a4-ff0ffdff80c4",
   "metadata": {},
   "outputs": [
    {
     "name": "stdout",
     "output_type": "stream",
     "text": [
      "Cost after iteration 0: 0.692750\n",
      "Cost after iteration 1000: 0.412312\n",
      "Cost after iteration 2000: 0.383813\n",
      "Cost after iteration 3000: 0.367983\n",
      "Cost after iteration 4000: 0.384264\n",
      "Cost after iteration 5000: 0.384694\n",
      "Cost after iteration 6000: 0.276411\n",
      "Cost after iteration 7000: 0.384910\n",
      "Cost after iteration 8000: 0.384605\n",
      "Cost after iteration 9000: 0.383858\n"
     ]
    }
   ],
   "source": [
    "parameters = nn_model(train_set_x, train_set_y, n_h = 4, num_iterations = 10000, print_cost=True)"
   ]
  },
  {
   "cell_type": "code",
   "execution_count": 35,
   "id": "aec0fee1-4173-4bbe-8cb2-9ad87a920a30",
   "metadata": {},
   "outputs": [
    {
     "name": "stdout",
     "output_type": "stream",
     "text": [
      "Train Accuracy: 83%\n"
     ]
    }
   ],
   "source": [
    "predictions = predict(parameters, train_set_x)\n",
    "\n",
    "accuracy = ((np.dot(train_set_y, predictions.T) + np.dot(1 - train_set_y, 1 - predictions.T)) / train_set_y.size * 100).item()\n",
    "\n",
    "print(\"Train Accuracy: %d%%\" % accuracy)\n"
   ]
  },
  {
   "cell_type": "code",
   "execution_count": 38,
   "id": "eecf3482-1bdf-4315-97f8-ad63cc8d21d9",
   "metadata": {},
   "outputs": [
    {
     "data": {
      "image/png": "[encoded data removed]",
      "text/plain": [
       "<Figure size 640x480 with 1 Axes>"
      ]
     },
     "metadata": {},
     "output_type": "display_data"
    },
    {
     "name": "stdout",
     "output_type": "stream",
     "text": [
      "Actual label (y): 0 → Seatbelt\n",
      "Predicted label (ŷ): 0 → Seatbelt\n",
      "Confidence: 76.02%\n"
     ]
    }
   ],
   "source": [
    "from PIL import Image\n",
    "import numpy as np\n",
    "import matplotlib.pyplot as plt\n",
    "\n",
    "num_px = 64\n",
    "\n",
    "# Function to predict with confidence\n",
    "def predict_with_confidence(parameters, X):\n",
    "    W1, b1, W2, b2 = parameters[\"W1\"], parameters[\"b1\"], parameters[\"W2\"], parameters[\"b2\"]\n",
    "    \n",
    "    # Forward propagation\n",
    "    Z1 = np.dot(W1, X) + b1\n",
    "    A1 = np.tanh(Z1)\n",
    "    Z2 = np.dot(W2, A1) + b2\n",
    "    A2 = 1 / (1 + np.exp(-Z2))   # sigmoid output (probability of class 1)\n",
    "\n",
    "    prediction = (A2 > 0.5).astype(int)   # threshold at 0.5\n",
    "    confidence = A2 if prediction == 1 else 1 - A2   # relative confidence\n",
    "    return prediction, confidence.item()  # <-- fixes the warning\n",
    "\n",
    "# ==== Test an image ====\n",
    "def test_image(my_image, actual_y, parameters, num_px):\n",
    "    # Load and preprocess\n",
    "    fname = \"images/\" + my_image   # folder path + filename\n",
    "    image = np.array(Image.open(fname).resize((num_px, num_px)))\n",
    "    \n",
    "    # Show image\n",
    "    plt.imshow(image)\n",
    "    plt.axis(\"off\")\n",
    "    plt.show()\n",
    "    \n",
    "    # Standardize + reshape\n",
    "    image = image / 255.0\n",
    "    image = image.reshape((1, num_px * num_px * 3)).T   # shape: (num_px*num_px*3, 1)\n",
    "\n",
    "    # Predict\n",
    "    pred, conf = predict_with_confidence(parameters, image)\n",
    "\n",
    "    # Print results\n",
    "    print(f\"Actual label (y): {actual_y} → {'Seatbelt' if actual_y == 0 else 'No Seatbelt'}\")\n",
    "    print(f\"Predicted label (ŷ): {int(np.squeeze(pred))} → {'Seatbelt' if pred == 0 else 'No Seatbelt'}\")\n",
    "    print(f\"Confidence: {conf*100:.2f}%\")\n",
    "\n",
    "# ==== Example usage ====\n",
    "# Change these values for each test image\n",
    "my_image = \"random.jpg\"   # put your test image file here\n",
    "actual_y = 0              # 0 = Seatbelt, 1 = No Seatbelt\n",
    "\n",
    "test_image(my_image, actual_y, parameters, num_px)\n"
   ]
  },
  {
   "cell_type": "code",
   "execution_count": 40,
   "id": "2e3cef26-cd33-4b81-8e24-da778c827464",
   "metadata": {},
   "outputs": [
    {
     "data": {
      "image/png": "[encoded data removed]",
      "text/plain": [
       "<Figure size 640x480 with 1 Axes>"
      ]
     },
     "metadata": {},
     "output_type": "display_data"
    },
    {
     "name": "stdout",
     "output_type": "stream",
     "text": [
      "Actual label (y): 0 → Seatbelt\n",
      "Predicted label (ŷ): 0 → Seatbelt\n",
      "Confidence: 76.02%\n"
     ]
    }
   ],
   "source": [
    "from PIL import Image\n",
    "import numpy as np\n",
    "import matplotlib.pyplot as plt\n",
    "\n",
    "num_px = 64\n",
    "\n",
    "# Function to predict with confidence\n",
    "def predict_with_confidence(parameters, X):\n",
    "    W1, b1, W2, b2 = parameters[\"W1\"], parameters[\"b1\"], parameters[\"W2\"], parameters[\"b2\"]\n",
    "    \n",
    "    # Forward propagation\n",
    "    Z1 = np.dot(W1, X) + b1\n",
    "    A1 = np.tanh(Z1)\n",
    "    Z2 = np.dot(W2, A1) + b2\n",
    "    A2 = 1 / (1 + np.exp(-Z2))   # sigmoid output (probability of class 1)\n",
    "\n",
    "    prediction = (A2 > 0.5).astype(int)   # threshold at 0.5\n",
    "    confidence = A2 if prediction == 1 else 1 - A2   # relative confidence\n",
    "    return prediction, confidence.item()  # <-- fixes the warning\n",
    "\n",
    "# ==== Test an image ====\n",
    "def test_image(my_image, actual_y, parameters, num_px):\n",
    "    # Load and preprocess\n",
    "    fname = \"images/\" + my_image   # folder path + filename\n",
    "    image = np.array(Image.open(fname).resize((num_px, num_px)))\n",
    "    \n",
    "    # Show image\n",
    "    plt.imshow(image)\n",
    "    plt.axis(\"off\")\n",
    "    plt.show()\n",
    "    \n",
    "    # Standardize + reshape\n",
    "    image = image / 255.0\n",
    "    image = image.reshape((1, num_px * num_px * 3)).T   # shape: (num_px*num_px*3, 1)\n",
    "\n",
    "    # Predict\n",
    "    pred, conf = predict_with_confidence(parameters, image)\n",
    "\n",
    "    # Print results\n",
    "    print(f\"Actual label (y): {actual_y} → {'Seatbelt' if actual_y == 0 else 'No Seatbelt'}\")\n",
    "    print(f\"Predicted label (ŷ): {int(np.squeeze(pred))} → {'Seatbelt' if pred == 0 else 'No Seatbelt'}\")\n",
    "    print(f\"Confidence: {conf*100:.2f}%\")\n",
    "\n",
    "# ==== Example usage ====\n",
    "# Change these values for each test image\n",
    "my_image = \"with2.jpg\"   # put your test image file here\n",
    "actual_y = 0              # 0 = Seatbelt, 1 = No Seatbelt\n",
    "\n",
    "test_image(my_image, actual_y, parameters, num_px)\n"
   ]
  },
  {
   "cell_type": "code",
   "execution_count": 42,
   "id": "46be365c-fb9c-4d37-b6a2-d4d985f56ba6",
   "metadata": {},
   "outputs": [
    {
     "data": {
      "image/png": "[encoded data removed]",
      "text/plain": [
       "<Figure size 640x480 with 1 Axes>"
      ]
     },
     "metadata": {},
     "output_type": "display_data"
    },
    {
     "name": "stdout",
     "output_type": "stream",
     "text": [
      "Actual label (y): 0 → Seatbelt\n",
      "Predicted label (ŷ): 0 → Seatbelt\n",
      "Confidence: 76.02%\n"
     ]
    }
   ],
   "source": [
    "from PIL import Image\n",
    "import numpy as np\n",
    "import matplotlib.pyplot as plt\n",
    "\n",
    "num_px = 64\n",
    "\n",
    "# Function to predict with confidence\n",
    "def predict_with_confidence(parameters, X):\n",
    "    W1, b1, W2, b2 = parameters[\"W1\"], parameters[\"b1\"], parameters[\"W2\"], parameters[\"b2\"]\n",
    "    \n",
    "    # Forward propagation\n",
    "    Z1 = np.dot(W1, X) + b1\n",
    "    A1 = np.tanh(Z1)\n",
    "    Z2 = np.dot(W2, A1) + b2\n",
    "    A2 = 1 / (1 + np.exp(-Z2))   # sigmoid output (probability of class 1)\n",
    "\n",
    "    prediction = (A2 > 0.5).astype(int)   # threshold at 0.5\n",
    "    confidence = A2 if prediction == 1 else 1 - A2   # relative confidence\n",
    "    return prediction, confidence.item()  # <-- fixes the warning\n",
    "\n",
    "# ==== Test an image ====\n",
    "def test_image(my_image, actual_y, parameters, num_px):\n",
    "    # Load and preprocess\n",
    "    fname = \"images/\" + my_image   # folder path + filename\n",
    "    image = np.array(Image.open(fname).resize((num_px, num_px)))\n",
    "    \n",
    "    # Show image\n",
    "    plt.imshow(image)\n",
    "    plt.axis(\"off\")\n",
    "    plt.show()\n",
    "    \n",
    "    # Standardize + reshape\n",
    "    image = image / 255.0\n",
    "    image = image.reshape((1, num_px * num_px * 3)).T   # shape: (num_px*num_px*3, 1)\n",
    "\n",
    "    # Predict\n",
    "    pred, conf = predict_with_confidence(parameters, image)\n",
    "\n",
    "    # Print results\n",
    "    print(f\"Actual label (y): {actual_y} → {'Seatbelt' if actual_y == 0 else 'No Seatbelt'}\")\n",
    "    print(f\"Predicted label (ŷ): {int(np.squeeze(pred))} → {'Seatbelt' if pred == 0 else 'No Seatbelt'}\")\n",
    "    print(f\"Confidence: {conf*100:.2f}%\")\n",
    "\n",
    "# ==== Example usage ====\n",
    "# Change these values for each test image\n",
    "my_image = \"without3.jpg\"   # put your test image file here\n",
    "actual_y = 0              # 0 = Seatbelt, 1 = No Seatbelt\n",
    "\n",
    "test_image(my_image, actual_y, parameters, num_px)\n"
   ]
  },
  {
   "cell_type": "code",
   "execution_count": null,
   "id": "602e3109-39ce-4787-9be1-c333939c4073",
   "metadata": {},
   "outputs": [],
   "source": []
  }
 ],
 "metadata": {
  "kernelspec": {
   "display_name": "Python 3 (ipykernel)",
   "language": "python",
   "name": "python3"
  },
  "language_info": {
   "codemirror_mode": {
    "name": "ipython",
    "version": 3
   },
   "file_extension": ".py",
   "mimetype": "text/x-python",
   "name": "python",
   "nbconvert_exporter": "python",
   "pygments_lexer": "ipython3",
   "version": "3.11.7"
  }
 },
 "nbformat": 4,
 "nbformat_minor": 5
}
